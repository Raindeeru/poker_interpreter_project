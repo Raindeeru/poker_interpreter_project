{
 "cells": [
  {
   "cell_type": "markdown",
   "id": "15249185-5670-4802-982c-74e822f9311d",
   "metadata": {},
   "source": [
    "# Section 1. Introduction to the Problem/Task and Interpreter System"
   ]
  },
  {
   "cell_type": "markdown",
   "id": "89cdff9c-9aeb-4c99-adab-8f337b0ae555",
   "metadata": {},
   "source": [
    "An interpreter system is a type of program that directly executes instructions written in a specific language without requiring them to be compiled into machine code first. Unlike compilers, which translate entire programs before execution, interpreters process commands line by line or statement by statement, providing immediate feedback and dynamic interaction between the user and the system. Interpreter systems are widely used in various domains such as programming languages (e.g., Python, JavaScript), command-line interfaces, and rule-based engines. Their importance lies in their flexibility, real-time execution, and ease of debugging and testing, making them valuable tools for both development and interactive applications.\n",
    "\n",
    "For this project, our group chose to design a Command Interpreter System that serves as the core mechanic of a text-based poker game with RPG elements. This interpreter system processes user commands such as Start, Bet, Raise, Call, Fold, Buy, and Quit, interpreting them as gameplay actions that affect the player’s progress and strategy. Each command input triggers corresponding game functions—such as initiating a poker round, placing bets, purchasing upgrades, or exiting the game—making the interpreter the bridge between user input and in-game outcomes.\n",
    "\n",
    "The chosen interpreter system was selected because of its strong potential for interactive gameplay and real-time decision-making. By using a command interpreter, players engage directly through text-based commands, providing a classic, console-like experience reminiscent of early adventure and strategy games. This design not only emphasizes logic and strategy but also demonstrates the practical application of interpreter systems in game development, where parsing, validating, and executing structured inputs are essential.\n",
    "\n",
    "The target task of this interpreter is to execute and manage gameplay commands entered by the user. It interprets textual input, validates parameters, and translates them into corresponding actions within the game—such as starting a match, betting chips, or purchasing upgrades between stages. Through this, the interpreter ensures a smooth command-driven experience, enabling players to progress through increasingly challenging poker battles while managing resources and strategies via intuitive text-based interactions.\n",
    "\n",
    "In summary, our command interpreter system transforms a sequence of user inputs into dynamic gameplay events, illustrating how interpreters can serve as the foundation for interactive, logic-based games. This approach highlights both the technical functionality and creative application of interpreters in an engaging, game-oriented environment."
   ]
  },
  {
   "cell_type": "markdown",
   "id": "8103d247-11fe-47fa-b2fe-d226024c99ad",
   "metadata": {},
   "source": [
    "# Section 2. Description of the Input Language"
   ]
  },
  {
   "cell_type": "markdown",
   "id": "8409fe42-03c8-4fb7-b6a8-874734c0005a",
   "metadata": {},
   "source": [
    "# Section 3. System Design"
   ]
  },
  {
   "cell_type": "markdown",
   "id": "ec7de9e9-38ce-45a4-b702-8e291ea3465b",
   "metadata": {},
   "source": [
    "# Section 4. Data Preprocessing and Cleaning"
   ]
  },
  {
   "cell_type": "markdown",
   "id": "0b7b7f03-aa1d-4885-9644-80494c8df3ee",
   "metadata": {},
   "source": [
    "# Section 5. Implementation Details"
   ]
  },
  {
   "cell_type": "code",
   "execution_count": 3,
   "id": "d733ab18",
   "metadata": {},
   "outputs": [
    {
     "name": "stdout",
     "output_type": "stream",
     "text": [
      "LexToken(COMMAND,'use',1,0)\n",
      "LexToken(CARD_ID,'4h',1,4)\n",
      "LexToken(TO,'to',1,7)\n",
      "LexToken(ACTION,'change',1,10)\n",
      "LexToken(CHANGE_KEY,'suit',1,17)\n",
      "LexToken(OF,'of',1,22)\n",
      "LexToken(CARD_ID,'10d',1,25)\n",
      "LexToken(TO,'to',1,29)\n",
      "LexToken(SUIT,'s',1,32)\n"
     ]
    }
   ],
   "source": [
    "from  tokenizer import lexer\n",
    "\n",
    "\n",
    "data = \"use 4h to change suit of 10d to s\"\n",
    "lexer.input(data)\n",
    "\n",
    "for tok in lexer:\n",
    "    print(tok)\n",
    "\n"
   ]
  },
  {
   "cell_type": "markdown",
   "id": "e17e58e2-c351-4daa-98f7-282406c632a2",
   "metadata": {},
   "source": [
    "# Section 6. Testing with Valid and Invalid Inputs"
   ]
  },
  {
   "cell_type": "code",
   "execution_count": 1,
   "id": "fcb5beae-7361-4c08-8665-255527484070",
   "metadata": {},
   "outputs": [],
   "source": [
    "from interpreter.tokenizer import lexer"
   ]
  },
  {
   "cell_type": "code",
   "execution_count": 2,
   "id": "6b891c94-c6d7-43d4-b731-aec810322ee3",
   "metadata": {},
   "outputs": [
    {
     "name": "stdout",
     "output_type": "stream",
     "text": [
      "LexToken(COMMAND,'use',1,0)\n"
     ]
    }
   ],
   "source": [
    "lexer.input('use')\n",
    "for tok in lexer:\n",
    "    print(tok)"
   ]
  },
  {
   "cell_type": "code",
   "execution_count": 3,
   "id": "c9f47969-67a9-4204-b6bb-045778ecd6e5",
   "metadata": {},
   "outputs": [],
   "source": [
    "from interpreter.parser import parser"
   ]
  },
  {
   "cell_type": "code",
   "execution_count": 50,
   "id": "09cd4b54-fb6c-4201-9b7b-feeeb0cc2f55",
   "metadata": {},
   "outputs": [
    {
     "name": "stdout",
     "output_type": "stream",
     "text": [
      "Dog\n",
      "Command(command='use', target=SpecialCardCommand(special_card=CardID(value='5h'), action=Action(action='exchange', target=ExchangeTarget(target1=CardID(value='5h'), target2=Number(num=1)))))\n"
     ]
    }
   ],
   "source": [
    "out = parser.parse('use 5h to exchange 5h with 1')\n",
    "print(out)"
   ]
  },
  {
   "cell_type": "code",
   "execution_count": 54,
   "id": "f9b85872-66fa-4071-9fbd-648603c072c5",
   "metadata": {},
   "outputs": [],
   "source": [
    "from graphviz import Digraph\n",
    "import interpreter.parser as p\n",
    "\n",
    "def create_ast(out):\n",
    "\n",
    "    dot = Digraph('Abstract Syntax Tree') \n",
    "    \n",
    "    nodes = []\n",
    "    edges = []\n",
    "    \n",
    "    nodes.append(out.command)\n",
    "    \n",
    "    if out.target:\n",
    "        t = out.target\n",
    "        if type(t) == list:\n",
    "            for i, card in enumerate(t):\n",
    "                nodes.append(card.value + str(i))\n",
    "                edges.append((out.command, card.value + str(i)))\n",
    "        if type(t) == p.Number:\n",
    "            nodes.append(str(t.num))\n",
    "            edges.append((out.command, str(t.num)))\n",
    "        if type(t) == p.CardID:\n",
    "            nodes.append(str(t.value))\n",
    "            edges.append((out.command, str(t.value)))\n",
    "        if type(t) == p.ItemID:\n",
    "            nodes.append(str(t.item))\n",
    "            edges.append((out.command, str(t.item)))\n",
    "        if type(t) == p.SpecialCardCommand:\n",
    "            a = t.action.action + \"\\n\" + t.special_card.value\n",
    "            nodes.append(a)\n",
    "            edges.append((out.command, a))\n",
    "            at = t.action.target\n",
    "            if at:\n",
    "                if type(at) == p.ChangeTarget:\n",
    "                    nodes.append(\"change_key\\n \" + at.change_key)\n",
    "                    edges.append((a, \"change_key\\n \" + at.change_key))\n",
    "                    nodes.append(\"card\\n \" + at.card_id)\n",
    "                    edges.append((a, \"card\\n \" + at.card_id))\n",
    "                    if type(at.change_value) == p.Number:\n",
    "                        nodes.append(\"change_value\\n \" + str(at.change_value.num))\n",
    "                        edges.append((a, \"change_value\\n \" + str(at.change_value.num)))\n",
    "                    if type(at.change_value) == p.AlphabetValue or type(at.change_value) == p.Suit:\n",
    "                        nodes.append(\"change_value\\n \" + str(at.change_value.value))\n",
    "                        edges.append((a, \"change_value\\n \" + str(at.change_value.value)))\n",
    "    \n",
    "                if type(at) == p.ExchangeTarget:\n",
    "                    def target_value(target):\n",
    "                        if type(target) == p.Number:\n",
    "                            return str(target.num)\n",
    "                        if type(target) == p.CardID:\n",
    "                            return target.value\n",
    "                    nodes.append(\"target 1\\n \" + target_value(at.target1))\n",
    "                    edges.append((a, \"target 1\\n \" + target_value(at.target1)))\n",
    "                    nodes.append(\"target 2\\n \" + target_value(at.target2))\n",
    "                    edges.append((a, \"target 2\\n \" + target_value(at.target2)))\n",
    "                    \n",
    "                \n",
    "    \n",
    "    for node in nodes:\n",
    "        dot.node(node, node)\n",
    "    \n",
    "    for src, dst in edges:\n",
    "        dot.edge(src, dst)\n",
    "    \n",
    "    return dot"
   ]
  },
  {
   "cell_type": "code",
   "execution_count": 55,
   "id": "9b4f04ca-68a6-41bf-8347-0f204f7098bb",
   "metadata": {},
   "outputs": [
    {
     "data": {
      "image/svg+xml": [
       "<?xml version=\"1.0\" encoding=\"UTF-8\" standalone=\"no\"?>\n",
       "<!DOCTYPE svg PUBLIC \"-//W3C//DTD SVG 1.1//EN\"\n",
       " \"http://www.w3.org/Graphics/SVG/1.1/DTD/svg11.dtd\">\n",
       "<!-- Generated by graphviz version 2.43.0 (0)\n",
       " -->\n",
       "<!-- Title: Abstract Syntax Tree Pages: 1 -->\n",
       "<svg width=\"236pt\" height=\"223pt\"\n",
       " viewBox=\"0.00 0.00 235.65 223.48\" xmlns=\"http://www.w3.org/2000/svg\" xmlns:xlink=\"http://www.w3.org/1999/xlink\">\n",
       "<g id=\"graph0\" class=\"graph\" transform=\"scale(1 1) rotate(0) translate(4 219.48)\">\n",
       "<title>Abstract Syntax Tree</title>\n",
       "<polygon fill=\"white\" stroke=\"transparent\" points=\"-4,4 -4,-219.48 231.65,-219.48 231.65,4 -4,4\"/>\n",
       "<!-- use -->\n",
       "<g id=\"node1\" class=\"node\">\n",
       "<title>use</title>\n",
       "<ellipse fill=\"none\" stroke=\"black\" cx=\"113.33\" cy=\"-197.48\" rx=\"27\" ry=\"18\"/>\n",
       "<text text-anchor=\"middle\" x=\"113.33\" y=\"-193.78\" font-family=\"Times,serif\" font-size=\"14.00\">use</text>\n",
       "</g>\n",
       "<!-- exchange\n",
       "5h -->\n",
       "<g id=\"node2\" class=\"node\">\n",
       "<title>exchange\n",
       "5h</title>\n",
       "<ellipse fill=\"none\" stroke=\"black\" cx=\"113.33\" cy=\"-116.61\" rx=\"59.29\" ry=\"26.74\"/>\n",
       "<text text-anchor=\"middle\" x=\"113.33\" y=\"-120.41\" font-family=\"Times,serif\" font-size=\"14.00\">exchange</text>\n",
       "<text text-anchor=\"middle\" x=\"113.33\" y=\"-105.41\" font-family=\"Times,serif\" font-size=\"14.00\">5h</text>\n",
       "</g>\n",
       "<!-- use&#45;&gt;exchange\n",
       "5h -->\n",
       "<g id=\"edge1\" class=\"edge\">\n",
       "<title>use&#45;&gt;exchange\n",
       "5h</title>\n",
       "<path fill=\"none\" stroke=\"black\" d=\"M113.33,-179.37C113.33,-171.88 113.33,-162.79 113.33,-153.91\"/>\n",
       "<polygon fill=\"black\" stroke=\"black\" points=\"116.83,-153.69 113.33,-143.69 109.83,-153.69 116.83,-153.69\"/>\n",
       "</g>\n",
       "<!-- target 1\n",
       " 5h -->\n",
       "<g id=\"node3\" class=\"node\">\n",
       "<title>target 1\n",
       " 5h</title>\n",
       "<ellipse fill=\"none\" stroke=\"black\" cx=\"52.33\" cy=\"-26.87\" rx=\"52.15\" ry=\"26.74\"/>\n",
       "<text text-anchor=\"middle\" x=\"52.33\" y=\"-30.67\" font-family=\"Times,serif\" font-size=\"14.00\">target 1</text>\n",
       "<text text-anchor=\"middle\" x=\"52.33\" y=\"-15.67\" font-family=\"Times,serif\" font-size=\"14.00\"> 5h</text>\n",
       "</g>\n",
       "<!-- exchange\n",
       "5h&#45;&gt;target 1\n",
       " 5h -->\n",
       "<g id=\"edge2\" class=\"edge\">\n",
       "<title>exchange\n",
       "5h&#45;&gt;target 1\n",
       " 5h</title>\n",
       "<path fill=\"none\" stroke=\"black\" d=\"M96.01,-90.7C89.58,-81.45 82.18,-70.81 75.32,-60.95\"/>\n",
       "<polygon fill=\"black\" stroke=\"black\" points=\"78.06,-58.75 69.48,-52.54 72.31,-62.75 78.06,-58.75\"/>\n",
       "</g>\n",
       "<!-- target 2\n",
       " 1 -->\n",
       "<g id=\"node4\" class=\"node\">\n",
       "<title>target 2\n",
       " 1</title>\n",
       "<ellipse fill=\"none\" stroke=\"black\" cx=\"175.33\" cy=\"-26.87\" rx=\"52.15\" ry=\"26.74\"/>\n",
       "<text text-anchor=\"middle\" x=\"175.33\" y=\"-30.67\" font-family=\"Times,serif\" font-size=\"14.00\">target 2</text>\n",
       "<text text-anchor=\"middle\" x=\"175.33\" y=\"-15.67\" font-family=\"Times,serif\" font-size=\"14.00\"> 1</text>\n",
       "</g>\n",
       "<!-- exchange\n",
       "5h&#45;&gt;target 2\n",
       " 1 -->\n",
       "<g id=\"edge3\" class=\"edge\">\n",
       "<title>exchange\n",
       "5h&#45;&gt;target 2\n",
       " 1</title>\n",
       "<path fill=\"none\" stroke=\"black\" d=\"M130.93,-90.7C137.46,-81.45 144.98,-70.81 151.95,-60.95\"/>\n",
       "<polygon fill=\"black\" stroke=\"black\" points=\"154.98,-62.72 157.9,-52.54 149.27,-58.68 154.98,-62.72\"/>\n",
       "</g>\n",
       "</g>\n",
       "</svg>\n"
      ],
      "text/plain": [
       "<graphviz.graphs.Digraph at 0x7f676e7e96a0>"
      ]
     },
     "execution_count": 55,
     "metadata": {},
     "output_type": "execute_result"
    }
   ],
   "source": [
    "create_ast(out)"
   ]
  },
  {
   "cell_type": "code",
   "execution_count": 57,
   "id": "0d6e6280-d359-410e-9c9c-17e2d578b48d",
   "metadata": {},
   "outputs": [
    {
     "name": "stdout",
     "output_type": "stream",
     "text": [
      "Dog\n"
     ]
    },
    {
     "data": {
      "image/svg+xml": [
       "<?xml version=\"1.0\" encoding=\"UTF-8\" standalone=\"no\"?>\n",
       "<!DOCTYPE svg PUBLIC \"-//W3C//DTD SVG 1.1//EN\"\n",
       " \"http://www.w3.org/Graphics/SVG/1.1/DTD/svg11.dtd\">\n",
       "<!-- Generated by graphviz version 2.43.0 (0)\n",
       " -->\n",
       "<!-- Title: Abstract Syntax Tree Pages: 1 -->\n",
       "<svg width=\"64pt\" height=\"116pt\"\n",
       " viewBox=\"0.00 0.00 63.90 116.00\" xmlns=\"http://www.w3.org/2000/svg\" xmlns:xlink=\"http://www.w3.org/1999/xlink\">\n",
       "<g id=\"graph0\" class=\"graph\" transform=\"scale(1 1) rotate(0) translate(4 112)\">\n",
       "<title>Abstract Syntax Tree</title>\n",
       "<polygon fill=\"white\" stroke=\"transparent\" points=\"-4,4 -4,-112 59.9,-112 59.9,4 -4,4\"/>\n",
       "<!-- buy -->\n",
       "<g id=\"node1\" class=\"node\">\n",
       "<title>buy</title>\n",
       "<ellipse fill=\"none\" stroke=\"black\" cx=\"27.95\" cy=\"-90\" rx=\"27.9\" ry=\"18\"/>\n",
       "<text text-anchor=\"middle\" x=\"27.95\" y=\"-86.3\" font-family=\"Times,serif\" font-size=\"14.00\">buy</text>\n",
       "</g>\n",
       "<!-- i5 -->\n",
       "<g id=\"node2\" class=\"node\">\n",
       "<title>i5</title>\n",
       "<ellipse fill=\"none\" stroke=\"black\" cx=\"27.95\" cy=\"-18\" rx=\"27\" ry=\"18\"/>\n",
       "<text text-anchor=\"middle\" x=\"27.95\" y=\"-14.3\" font-family=\"Times,serif\" font-size=\"14.00\">i5</text>\n",
       "</g>\n",
       "<!-- buy&#45;&gt;i5 -->\n",
       "<g id=\"edge1\" class=\"edge\">\n",
       "<title>buy&#45;&gt;i5</title>\n",
       "<path fill=\"none\" stroke=\"black\" d=\"M27.95,-71.7C27.95,-63.98 27.95,-54.71 27.95,-46.11\"/>\n",
       "<polygon fill=\"black\" stroke=\"black\" points=\"31.45,-46.1 27.95,-36.1 24.45,-46.1 31.45,-46.1\"/>\n",
       "</g>\n",
       "</g>\n",
       "</svg>\n"
      ],
      "text/plain": [
       "<graphviz.graphs.Digraph at 0x7f676e995460>"
      ]
     },
     "execution_count": 57,
     "metadata": {},
     "output_type": "execute_result"
    }
   ],
   "source": [
    "out = parser.parse('buy i5')\n",
    "create_ast(out)"
   ]
  },
  {
   "cell_type": "markdown",
   "id": "da48362e-4d51-49d6-93de-dc9d69f34aac",
   "metadata": {},
   "source": [
    "# Section 7. Extensions and Additional Features"
   ]
  },
  {
   "cell_type": "markdown",
   "id": "d2a14854-cb64-4e99-b463-a548ea7cd75b",
   "metadata": {},
   "source": [
    "# Section 8. Insights and Conclusions"
   ]
  },
  {
   "cell_type": "markdown",
   "id": "a77644a9-ee72-465d-a2e3-e65ec60e1dc7",
   "metadata": {},
   "source": [
    "# Section 9. References"
   ]
  },
  {
   "cell_type": "code",
   "execution_count": null,
   "id": "9a032d8d-de0d-41c4-9350-bc6f00446b7f",
   "metadata": {},
   "outputs": [],
   "source": []
  }
 ],
 "metadata": {
  "kernelspec": {
   "display_name": "Poker",
   "language": "python",
   "name": "python3"
  },
  "language_info": {
   "codemirror_mode": {
    "name": "ipython",
    "version": 3
   },
   "file_extension": ".py",
   "mimetype": "text/x-python",
   "name": "python",
   "nbconvert_exporter": "python",
   "pygments_lexer": "ipython3",
   "version": "3.13.7"
  }
 },
 "nbformat": 4,
 "nbformat_minor": 5
}
